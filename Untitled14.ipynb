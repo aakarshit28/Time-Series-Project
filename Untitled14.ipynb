{
  "nbformat": 4,
  "nbformat_minor": 0,
  "metadata": {
    "colab": {
      "provenance": [],
      "authorship_tag": "ABX9TyPkhzg4rwYhy8FCQgNTM1Zt",
      "include_colab_link": true
    },
    "kernelspec": {
      "name": "python3",
      "display_name": "Python 3"
    },
    "language_info": {
      "name": "python"
    }
  },
  "cells": [
    {
      "cell_type": "markdown",
      "metadata": {
        "id": "view-in-github",
        "colab_type": "text"
      },
      "source": [
        "<a href=\"https://colab.research.google.com/github/aakarshit28/Time-Series-Project/blob/main/Untitled14.ipynb\" target=\"_parent\"><img src=\"https://colab.research.google.com/assets/colab-badge.svg\" alt=\"Open In Colab\"/></a>"
      ]
    },
    {
      "cell_type": "code",
      "execution_count": 7,
      "metadata": {
        "colab": {
          "base_uri": "https://localhost:8080/"
        },
        "id": "QKOykLP9fG4N",
        "outputId": "bcf7e0fe-59da-4635-bf9c-42c3e4b2681f"
      },
      "outputs": [
        {
          "output_type": "stream",
          "name": "stdout",
          "text": [
            "CSV file 'sample_stock_data5.csv' generated with 7560 entries (Monday to Friday).\n"
          ]
        }
      ],
      "source": [
        "import pandas as pd\n",
        "import numpy as np\n",
        "from datetime import datetime\n",
        "\n",
        "# Set random seed for reproducibility\n",
        "np.random.seed(42)\n",
        "\n",
        "# Generate 10,000 business days (Monday to Friday) starting from January 1, 1995\n",
        "start_date = datetime(1996, 1, 1)\n",
        "dates = pd.date_range(start=start_date, periods=7560, freq='B')  # 'B' for business days\n",
        "\n",
        "# Generate synthetic closing prices using a random walk with a trend\n",
        "initial_price = 100.0  # Starting price\n",
        "close_prices = [initial_price]\n",
        "trend = 0.02  # Daily trend factor\n",
        "volatility = 0.5  # Daily volatility\n",
        "\n",
        "for i in range(1, 7560):\n",
        "    # Random walk: price = previous_price + trend + random_noise\n",
        "    daily_change = trend + np.random.normal(0, volatility)\n",
        "    new_price = close_prices[-1] * (1 + daily_change / 100)\n",
        "    close_prices.append(max(new_price, 0))  # Ensure non-negative prices\n",
        "\n",
        "# Generate Open, High, Low, and Volume (optional, for realism)\n",
        "open_prices = [p * np.random.uniform(0.98, 1.02) for p in close_prices]  # ±2% of Close\n",
        "high_prices = [max(o, c * np.random.uniform(1.0, 1.03)) for o, c in zip(open_prices, close_prices)]  # Up to 3% above Open/Close\n",
        "low_prices = [min(o, c * np.random.uniform(0.97, 1.0)) for o, c in zip(open_prices, close_prices)]  # Up to 3% below Open/Close\n",
        "volumes = [int(np.random.uniform(1e6, 5e6)) for _ in range(7560)]  # Random volume between 1M and 5M\n",
        "\n",
        "# Create DataFrame\n",
        "df = pd.DataFrame({\n",
        "    'Date': dates,\n",
        "    'Open': open_prices,\n",
        "    'High': high_prices,\n",
        "    'Low': low_prices,\n",
        "    'Close': close_prices,\n",
        "    'Volume': volumes\n",
        "})\n",
        "\n",
        "# Save to CSV\n",
        "df.to_csv('sample_stock_data5.csv', index=False)\n",
        "print(\"CSV file 'sample_stock_data5.csv' generated with 7560 entries (Monday to Friday).\")"
      ]
    }
  ]
}